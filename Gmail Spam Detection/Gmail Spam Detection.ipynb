{
 "cells": [
  {
   "cell_type": "code",
   "execution_count": 9,
   "id": "1dc806b9",
   "metadata": {},
   "outputs": [
    {
     "name": "stdout",
     "output_type": "stream",
     "text": [
      "Requirement already satisfied: nltk in c:\\users\\yeman\\appdata\\local\\programs\\python\\python38\\lib\\site-packages (3.6.3)\n",
      "Requirement already satisfied: regex in c:\\users\\yeman\\appdata\\local\\programs\\python\\python38\\lib\\site-packages (from nltk) (2021.10.8)\n",
      "Requirement already satisfied: joblib in c:\\users\\yeman\\appdata\\local\\programs\\python\\python38\\lib\\site-packages (from nltk) (1.0.1)\n",
      "Requirement already satisfied: click in c:\\users\\yeman\\appdata\\local\\programs\\python\\python38\\lib\\site-packages (from nltk) (8.0.2)\n",
      "Requirement already satisfied: tqdm in c:\\users\\yeman\\appdata\\local\\programs\\python\\python38\\lib\\site-packages (from nltk) (4.62.3)\n",
      "Requirement already satisfied: colorama in c:\\users\\yeman\\appdata\\roaming\\python\\python38\\site-packages (from click->nltk) (0.4.4)\n"
     ]
    },
    {
     "name": "stderr",
     "output_type": "stream",
     "text": [
      "WARNING: You are using pip version 21.0.1; however, version 21.2.4 is available.\n",
      "You should consider upgrading via the 'c:\\users\\yeman\\appdata\\local\\programs\\python\\python38\\python.exe -m pip install --upgrade pip' command.\n",
      "[nltk_data] Downloading package wordnet to\n",
      "[nltk_data]     C:\\Users\\Yeman\\AppData\\Roaming\\nltk_data...\n",
      "[nltk_data]   Package wordnet is already up-to-date!\n"
     ]
    },
    {
     "data": {
      "text/plain": [
       "True"
      ]
     },
     "execution_count": 9,
     "metadata": {},
     "output_type": "execute_result"
    }
   ],
   "source": [
    "# importing\n",
    "\n",
    "! pip install nltk\n",
    "import nltk \n",
    "nltk.download('wordnet')"
   ]
  },
  {
   "cell_type": "code",
   "execution_count": null,
   "id": "0e02fd50",
   "metadata": {},
   "outputs": [],
   "source": [
    "# reading csv\n",
    "\n",
    "import pandas as pd\n",
    "dt = pd.read_csv('SPAMdataset.csv',encoding='windows-1252')\n",
    "dt.head()\n"
   ]
  },
  {
   "cell_type": "code",
   "execution_count": null,
   "id": "59adf693",
   "metadata": {},
   "outputs": [],
   "source": [
    "dt['spam'] = dt['type'].map({'spam':1, 'ham':0}).astype(int)\n",
    "dt.head()"
   ]
  },
  {
   "cell_type": "code",
   "execution_count": null,
   "id": "61130023",
   "metadata": {},
   "outputs": [],
   "source": [
    "print(\"Columns in the dataset: \")\n",
    "for col in dt.columns:\n",
    "    print(col)\n",
    "\n",
    " "
   ]
  },
  {
   "cell_type": "code",
   "execution_count": null,
   "id": "0d8ae556",
   "metadata": {},
   "outputs": [],
   "source": [
    "t = len(dt['text'])\n",
    "print(\"Number of rows: \",t)"
   ]
  },
  {
   "cell_type": "code",
   "execution_count": null,
   "id": "80ab22d5",
   "metadata": {},
   "outputs": [],
   "source": [
    "# preprocessing\n",
    "# Tokenization\n",
    "\n",
    "def tokenizer(text):\n",
    "    return text.split()\n"
   ]
  },
  {
   "cell_type": "code",
   "execution_count": null,
   "id": "039221fc",
   "metadata": {},
   "outputs": [],
   "source": [
    "dt['text'] = dt['text'].apply(tokenizer)"
   ]
  },
  {
   "cell_type": "code",
   "execution_count": null,
   "id": "b750e605",
   "metadata": {},
   "outputs": [],
   "source": [
    "from nltk.stem.snowball import SnowballStemmer\n",
    "porter = SnowballStemmer(\"english\", ignore_stopwords = False)"
   ]
  },
  {
   "cell_type": "code",
   "execution_count": null,
   "id": "7f43809d",
   "metadata": {},
   "outputs": [],
   "source": [
    "def stem_it(text):\n",
    "    return [porter.stem(word) for word in text]"
   ]
  },
  {
   "cell_type": "code",
   "execution_count": null,
   "id": "4215e230",
   "metadata": {},
   "outputs": [],
   "source": [
    "dt['text'] = dt['text'].apply(stem_it)"
   ]
  },
  {
   "cell_type": "code",
   "execution_count": null,
   "id": "0c1fa058",
   "metadata": {},
   "outputs": [],
   "source": [
    "dt['text'][4]"
   ]
  },
  {
   "cell_type": "code",
   "execution_count": null,
   "id": "f7abbe86",
   "metadata": {},
   "outputs": [],
   "source": [
    "# Lemmatization \n",
    "from nltk.stem import WordNetLemmatizer\n",
    "lemmatizer = WordNetLemmatizer()\n"
   ]
  },
  {
   "cell_type": "code",
   "execution_count": null,
   "id": "ffe5db2e",
   "metadata": {},
   "outputs": [],
   "source": [
    "def lemmit(text):\n",
    "    return [lemmatizer.lemmatize(word, pos = 'a') for word in text]"
   ]
  },
  {
   "cell_type": "code",
   "execution_count": null,
   "id": "8067fd78",
   "metadata": {},
   "outputs": [],
   "source": [
    "dt['text'] = dt['text'].apply(lemmit)\n",
    "dt['text'][4]"
   ]
  },
  {
   "cell_type": "code",
   "execution_count": null,
   "id": "7ce8d07f",
   "metadata": {},
   "outputs": [],
   "source": [
    "from nltk.corpus import stopwords\n",
    "stop_words = stopwords.words(\"english\")"
   ]
  },
  {
   "cell_type": "code",
   "execution_count": null,
   "id": "86c667c6",
   "metadata": {},
   "outputs": [],
   "source": [
    "def stop_it(text):\n",
    "    review = [word for word in text if not word in stop_words]\n",
    "    return review"
   ]
  },
  {
   "cell_type": "code",
   "execution_count": null,
   "id": "b25f3845",
   "metadata": {},
   "outputs": [],
   "source": [
    "dt['text'] = dt['text'].apply(stop_it)\n",
    "dt['text'][4]"
   ]
  },
  {
   "cell_type": "code",
   "execution_count": null,
   "id": "6fa3c3d1",
   "metadata": {},
   "outputs": [],
   "source": [
    "dt['text'] = dt['text'].apply(' '.join)\n",
    "dt.head()"
   ]
  },
  {
   "cell_type": "code",
   "execution_count": 104,
   "id": "d04780b9",
   "metadata": {},
   "outputs": [],
   "source": [
    "import sklearn\n",
    "from sklearn.feature_extraction.text import TfidfVectorizer\n",
    "tfidf = TfidfVectorizer()\n",
    "y = dt.spam.values\n",
    "x = tfidf.fit_transform(dt['text'])"
   ]
  },
  {
   "cell_type": "code",
   "execution_count": 105,
   "id": "32925ab5",
   "metadata": {},
   "outputs": [],
   "source": [
    "# splitting the dataset\n",
    "from sklearn.model_selection import train_test_split\n",
    "\n",
    "x_train, x_text, y_train, y_text = train_test_split(x,y, test_size=0.2, random_state=25, shuffle = False)"
   ]
  },
  {
   "cell_type": "code",
   "execution_count": 108,
   "id": "dbfb9faf",
   "metadata": {},
   "outputs": [],
   "source": [
    "# Classification using Logistic Regression\n",
    "from sklearn.linear_model import LogisticRegression\n",
    "clf = LogisticRegression()\n",
    "clf.fit(x_train, y_train)\n",
    "y_pred = clf.predict(x_text)\n"
   ]
  },
  {
   "cell_type": "code",
   "execution_count": 109,
   "id": "bffd61f5",
   "metadata": {},
   "outputs": [
    {
     "name": "stdout",
     "output_type": "stream",
     "text": [
      "Acurracy Score:-  87.5\n"
     ]
    }
   ],
   "source": [
    "from sklearn.metrics import accuracy_score\n",
    "acc_log = accuracy_score(y_pred, y_text)*100\n",
    "print(\"Acurracy Score:- \",acc_log)"
   ]
  },
  {
   "cell_type": "code",
   "execution_count": null,
   "id": "1cce97f7",
   "metadata": {},
   "outputs": [],
   "source": []
  }
 ],
 "metadata": {
  "kernelspec": {
   "display_name": "Python 3",
   "language": "python",
   "name": "python3"
  },
  "language_info": {
   "codemirror_mode": {
    "name": "ipython",
    "version": 3
   },
   "file_extension": ".py",
   "mimetype": "text/x-python",
   "name": "python",
   "nbconvert_exporter": "python",
   "pygments_lexer": "ipython3",
   "version": "3.8.6"
  }
 },
 "nbformat": 4,
 "nbformat_minor": 5
}
